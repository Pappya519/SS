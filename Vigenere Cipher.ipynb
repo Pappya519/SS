{
 "cells": [
  {
   "cell_type": "code",
   "execution_count": 2,
   "id": "2c72ecbb-b141-486d-ac02-8ec724988e38",
   "metadata": {},
   "outputs": [
    {
     "name": "stdout",
     "output_type": "stream",
     "text": [
      "Plaintext: HELLO VIGENERE\n",
      "Ciphertext: RIJVSTSKCXIPO\n",
      "Decrypted text: HELLOVIGENERE\n"
     ]
    }
   ],
   "source": [
    "def generate_vigenere_table():\n",
    "    table = []\n",
    "    for i in range(26):\n",
    "        table.append([chr((i + j) % 26 + 65) for j in range(26)])\n",
    "    return table\n",
    "\n",
    "def vigenere_encrypt(plain_text, key):\n",
    "    table = generate_vigenere_table()\n",
    "    plain_text = plain_text.upper().replace(\" \", \"\")\n",
    "    key = key.upper().replace(\" \", \"\")\n",
    "    cipher_text = \"\"\n",
    "    key_index = 0\n",
    "    for char in plain_text:\n",
    "        if char.isalpha():\n",
    "            row = ord(char) - 65\n",
    "            col = ord(key[key_index % len(key)]) - 65\n",
    "            cipher_text += table[row][col]\n",
    "            key_index += 1\n",
    "        else:\n",
    "            cipher_text += char\n",
    "    return cipher_text\n",
    "\n",
    "def vigenere_decrypt(cipher_text, key):\n",
    "    table = generate_vigenere_table()\n",
    "    cipher_text = cipher_text.upper().replace(\" \", \"\")\n",
    "    key = key.upper().replace(\" \", \"\")\n",
    "    plain_text = \"\"\n",
    "    key_index = 0\n",
    "    for char in cipher_text:\n",
    "        if char.isalpha():\n",
    "            row = ord(key[key_index % len(key)]) - 65\n",
    "            col = table[row].index(char)\n",
    "            plain_text += chr(col + 65)\n",
    "            key_index += 1\n",
    "        else:\n",
    "            plain_text += char\n",
    "    return plain_text\n",
    "\n",
    "key = \"KEY\"\n",
    "plain_text = \"HELLO VIGENERE\"\n",
    "cipher_text = vigenere_encrypt(plain_text, key)\n",
    "decrypted_text = vigenere_decrypt(cipher_text, key)\n",
    "\n",
    "print(\"Plaintext:\", plain_text)\n",
    "print(\"Ciphertext:\", cipher_text)\n",
    "print(\"Decrypted text:\", decrypted_text)\n"
   ]
  },
  {
   "cell_type": "code",
   "execution_count": null,
   "id": "bb3fbc1c-6b7a-49b5-a2fb-c0da38c22484",
   "metadata": {},
   "outputs": [],
   "source": []
  }
 ],
 "metadata": {
  "kernelspec": {
   "display_name": "Python 3 (ipykernel)",
   "language": "python",
   "name": "python3"
  },
  "language_info": {
   "codemirror_mode": {
    "name": "ipython",
    "version": 3
   },
   "file_extension": ".py",
   "mimetype": "text/x-python",
   "name": "python",
   "nbconvert_exporter": "python",
   "pygments_lexer": "ipython3",
   "version": "3.12.3"
  }
 },
 "nbformat": 4,
 "nbformat_minor": 5
}
