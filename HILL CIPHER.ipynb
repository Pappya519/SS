{
 "cells": [
  {
   "cell_type": "code",
   "execution_count": 4,
   "id": "873ab430-a8f6-4c6b-be2f-d318c723ef3e",
   "metadata": {},
   "outputs": [
    {
     "name": "stdout",
     "output_type": "stream",
     "text": [
      "Plaintext: HELLO\n",
      "Ciphertext: TFJJZX\n",
      "Decrypted text: GHNKVN\n"
     ]
    }
   ],
   "source": [
    "import numpy as np\n",
    "\n",
    "def mod_inverse(a, m):\n",
    "    for x in range(1, m):\n",
    "        if (a * x) % m == 1:\n",
    "            return x\n",
    "    return None\n",
    "\n",
    "def matrix_mod_inverse(matrix, m):\n",
    "    det = int(np.round(np.linalg.det(matrix))) % m\n",
    "    det_inv = mod_inverse(det, m)\n",
    "    if det_inv is None:\n",
    "        return None\n",
    "    matrix_adj = np.round(np.linalg.inv(matrix) * det).astype(int) % m\n",
    "    return (det_inv * matrix_adj) % m\n",
    "\n",
    "def hill_encrypt(plain_text, key_matrix):\n",
    "    m = len(key_matrix)\n",
    "    plain_text = plain_text.replace(\" \", \"\").upper()\n",
    "    while len(plain_text) % m != 0:\n",
    "        plain_text += 'X'\n",
    "    plain_text_nums = [ord(char) - 65 for char in plain_text]\n",
    "    cipher_text = ''\n",
    "    for i in range(0, len(plain_text_nums), m):\n",
    "        block = np.array(plain_text_nums[i:i + m]).reshape(m, 1)\n",
    "        encrypted_block = np.dot(key_matrix, block) % 26\n",
    "        cipher_text += ''.join([chr(int(encrypted_block[i][0]) + 65) for i in range(m)])\n",
    "    return cipher_text\n",
    "\n",
    "def hill_decrypt(cipher_text, key_matrix):\n",
    "    m = len(key_matrix)\n",
    "    cipher_text_nums = [ord(char) - 65 for char in cipher_text]\n",
    "    key_matrix_inv = matrix_mod_inverse(key_matrix, 26)\n",
    "    if key_matrix_inv is None:\n",
    "        return None\n",
    "    plain_text = ''\n",
    "    for i in range(0, len(cipher_text_nums), m):\n",
    "        block = np.array(cipher_text_nums[i:i + m]).reshape(m, 1)\n",
    "        decrypted_block = np.dot(key_matrix_inv, block) % 26\n",
    "        plain_text += ''.join([chr(int(decrypted_block[i][0]) + 65) for i in range(m)])\n",
    "    return plain_text\n",
    "\n",
    "key_matrix = np.array([[6, 24, 1], [13, 16, 10], [20, 17, 15]])\n",
    "plain_text = \"HELLO\"\n",
    "cipher_text = hill_encrypt(plain_text, key_matrix)\n",
    "decrypted_text = hill_decrypt(cipher_text, key_matrix)\n",
    "\n",
    "print(\"Plaintext:\", plain_text)\n",
    "print(\"Ciphertext:\", cipher_text)\n",
    "print(\"Decrypted text:\", decrypted_text)\n"
   ]
  },
  {
   "cell_type": "code",
   "execution_count": null,
   "id": "3b601bab-ef77-4fa7-b860-1566cd14179f",
   "metadata": {},
   "outputs": [],
   "source": []
  }
 ],
 "metadata": {
  "kernelspec": {
   "display_name": "Python 3 (ipykernel)",
   "language": "python",
   "name": "python3"
  },
  "language_info": {
   "codemirror_mode": {
    "name": "ipython",
    "version": 3
   },
   "file_extension": ".py",
   "mimetype": "text/x-python",
   "name": "python",
   "nbconvert_exporter": "python",
   "pygments_lexer": "ipython3",
   "version": "3.12.3"
  }
 },
 "nbformat": 4,
 "nbformat_minor": 5
}
