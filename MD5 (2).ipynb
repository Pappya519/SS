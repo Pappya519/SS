{
 "cells": [
  {
   "cell_type": "code",
   "execution_count": 4,
   "id": "9f7e952f-5e34-4b9f-8303-f6db6cc680da",
   "metadata": {},
   "outputs": [
    {
     "name": "stdout",
     "output_type": "stream",
     "text": [
      "MD5 hash of \"Hello World\": b10a8db164e0754105b7a99be72e3fe5\n"
     ]
    }
   ],
   "source": [
    "import hashlib\n",
    "\n",
    "\n",
    "def calculate_md5(input_string):\n",
    "    md5_hash = hashlib.md5()\n",
    "    md5_hash.update(input_string.encode('utf-8'))  \n",
    "    return md5_hash.hexdigest()  \n",
    "\n",
    "if __name__ == '__main__':\n",
    "    text = 'Hello World'  \n",
    "    md5_result = calculate_md5(text)  \n",
    "    print(f'MD5 hash of \"{text}\": {md5_result}')  \n"
   ]
  },
  {
   "cell_type": "code",
   "execution_count": null,
   "id": "cbcff8c3-0a10-4755-88d5-5cf8d8271e4b",
   "metadata": {},
   "outputs": [],
   "source": []
  }
 ],
 "metadata": {
  "kernelspec": {
   "display_name": "Python 3 (ipykernel)",
   "language": "python",
   "name": "python3"
  },
  "language_info": {
   "codemirror_mode": {
    "name": "ipython",
    "version": 3
   },
   "file_extension": ".py",
   "mimetype": "text/x-python",
   "name": "python",
   "nbconvert_exporter": "python",
   "pygments_lexer": "ipython3",
   "version": "3.12.3"
  }
 },
 "nbformat": 4,
 "nbformat_minor": 5
}
