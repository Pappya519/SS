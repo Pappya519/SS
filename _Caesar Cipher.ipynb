{
 "cells": [
  {
   "cell_type": "code",
   "execution_count": 8,
   "id": "32b10aac-856a-40ef-98b1-62de8cfe4ff6",
   "metadata": {},
   "outputs": [
    {
     "name": "stdin",
     "output_type": "stream",
     "text": [
      "Enter the plain/cipher text:  A\n",
      "If you want to encrypt the text, enter a positive Key value. \n",
      "If you want to decrypt the text, enter a negative Key value:  3\n"
     ]
    },
    {
     "name": "stdout",
     "output_type": "stream",
     "text": [
      "Text:  A\n",
      "Key:  3\n",
      "Result:  D\n"
     ]
    }
   ],
   "source": [
    "def caesar_cipher(text, s):\n",
    "    result = \"\"\n",
    "    for i in range(len(text)):\n",
    "        char = text[i]\n",
    "        if char.isupper():\n",
    "            result += chr((ord(char) + s - 65) % 26 + 65)\n",
    "        elif char.islower():\n",
    "            result += chr((ord(char) + s - 97) % 26 + 97)\n",
    "        else:\n",
    "            result += char\n",
    "    return result\n",
    "\n",
    "text = input(\"Enter the plain/cipher text: \")\n",
    "s = int(input(\"If you want to encrypt the text, enter a positive Key value. \\nIf you want to decrypt the text, enter a negative Key value: \"))\n",
    "print(\"Text: \", text)\n",
    "print(\"Key: \", str(s))\n",
    "print(\"Result: \", caesar_cipher(text, s))\n"
   ]
  },
  {
   "cell_type": "code",
   "execution_count": null,
   "id": "155a7acf-b97a-4297-97d0-b0c24b908683",
   "metadata": {},
   "outputs": [],
   "source": []
  }
 ],
 "metadata": {
  "kernelspec": {
   "display_name": "Python 3 (ipykernel)",
   "language": "python",
   "name": "python3"
  },
  "language_info": {
   "codemirror_mode": {
    "name": "ipython",
    "version": 3
   },
   "file_extension": ".py",
   "mimetype": "text/x-python",
   "name": "python",
   "nbconvert_exporter": "python",
   "pygments_lexer": "ipython3",
   "version": "3.12.3"
  }
 },
 "nbformat": 4,
 "nbformat_minor": 5
}
