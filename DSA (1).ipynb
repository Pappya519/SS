{
 "cells": [
  {
   "cell_type": "code",
   "execution_count": 2,
   "id": "bc0be55b-979d-4b9c-8255-500d1290699e",
   "metadata": {},
   "outputs": [
    {
     "name": "stdout",
     "output_type": "stream",
     "text": [
      "Message: Hello, DSA!\n",
      "Signature: (12, 15)\n",
      "Is the signature valid? False\n"
     ]
    }
   ],
   "source": [
    "import random\n",
    "from hashlib import sha1\n",
    "\n",
    "def generate_keys():\n",
    "    q = 23\n",
    "    p = 383\n",
    "    h = 2\n",
    "    g = pow(h, (p - 1) // q, p)\n",
    "    x = random.randint(1, q - 1)\n",
    "    y = pow(g, x, p)\n",
    "    public_key = (p, q, g, y)\n",
    "    private_key = (p, q, g, x)\n",
    "    return public_key, private_key\n",
    "\n",
    "def sign_message(private_key, message):\n",
    "    p, q, g, x = private_key\n",
    "    h = int(sha1(message.encode()).hexdigest(), 16)\n",
    "    while True:\n",
    "        k = random.randint(1, q - 1)\n",
    "        r = pow(g, k, p) % q\n",
    "        if r == 0:\n",
    "            continue\n",
    "        k_inv = pow(k, -1, q)\n",
    "        s = (k_inv * (h + r * x)) % q\n",
    "        if s != 0:\n",
    "            break\n",
    "    return (r, s)\n",
    "\n",
    "def verify_signature(public_key, message, signature):\n",
    "    p, q, g, y = public_key\n",
    "    r, s = signature\n",
    "    h = int(sha1(message.encode()).hexdigest(), 16)\n",
    "    if not (0 < r < q and 0 < s < q):\n",
    "        return False\n",
    "    w = pow(s, -1, q)\n",
    "    u1 = (h * w) % q\n",
    "    u2 = (r * w) % q\n",
    "    V = ((pow(g, u1, p) * pow(y, u2, p)) % p) % q\n",
    "    return V == r\n",
    "\n",
    "public_key, private_key = generate_keys()\n",
    "message = \"Hello, DSA!\"\n",
    "signature = sign_message(private_key, message)\n",
    "is_valid = verify_signature(public_key, message, signature)\n",
    "\n",
    "print(\"Message:\", message)\n",
    "print(\"Signature:\", signature)\n",
    "print(\"Is the signature valid?\", is_valid)\n"
   ]
  },
  {
   "cell_type": "code",
   "execution_count": null,
   "id": "853f5684-e448-491e-9813-3ae2aa9df178",
   "metadata": {},
   "outputs": [],
   "source": []
  }
 ],
 "metadata": {
  "kernelspec": {
   "display_name": "Python 3 (ipykernel)",
   "language": "python",
   "name": "python3"
  },
  "language_info": {
   "codemirror_mode": {
    "name": "ipython",
    "version": 3
   },
   "file_extension": ".py",
   "mimetype": "text/x-python",
   "name": "python",
   "nbconvert_exporter": "python",
   "pygments_lexer": "ipython3",
   "version": "3.12.3"
  }
 },
 "nbformat": 4,
 "nbformat_minor": 5
}
