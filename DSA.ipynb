{
 "cells": [
  {
   "cell_type": "code",
   "execution_count": 2,
   "id": "bc0be55b-979d-4b9c-8255-500d1290699e",
   "metadata": {},
   "outputs": [
    {
     "ename": "IndentationError",
     "evalue": "expected an indented block after function definition on line 4 (182856818.py, line 6)",
     "output_type": "error",
     "traceback": [
      "\u001b[1;36m  Cell \u001b[1;32mIn[2], line 6\u001b[1;36m\u001b[0m\n\u001b[1;33m    q = 23 # A small prime number; in practice, this should be much Larger\u001b[0m\n\u001b[1;37m    ^\u001b[0m\n\u001b[1;31mIndentationError\u001b[0m\u001b[1;31m:\u001b[0m expected an indented block after function definition on line 4\n"
     ]
    }
   ],
   "source": [
    "import random\n",
    "from hashlib import sha1\n",
    "# Key generation\n",
    "def generate_keys():\n",
    "# Step 1: Choose prime q\n",
    "q = 23 # A small prime number; in practice, this should be much Larger\n",
    "# Step 2: Choose prime p such that p - 1 is a multiple of q\n",
    "p - 383 # A prime number where p-1 is divisible by q\n",
    "# Step 3: Choose integer g\n",
    "h = 2 # Primitive root modulo p\n",
    "g - pow(h, (p - 1) // q, p)\n",
    "# Step 4: Choose integer x as private key\n",
    "x - random.randint(1, q - 1)\n",
    "# Step 5: Compute y as public key\n",
    "y = pow(g, x, p)\n",
    "# Return public and private keys\n",
    "public_key - (p, q, g, y)\n",
    "private_key = (p, q, g, x)\n",
    "return public_key, private_key\n",
    "# Signature generation\n",
    "def sign_message(private_key, message):\n",
    "P, q, g, x = private_key\n",
    "h = int(shai(message.encode()).hexdigest(), 16)\n",
    "while True:\n",
    "k = random.randint(1, q - 1)\n",
    "r - pow(g, k, p) % q\n",
    "if r == 0:\n",
    "continue\n",
    "k_inv - pow(k, - 1, q)\n",
    "s - (k_inv . (h + r * x)) % q\n",
    "if s != 0:\n",
    "break\n",
    "return (r, s)\n",
    "# Signature verification\n",
    "def verify_signature(public_key, message, signature):\n",
    "P, q, g, y = public_key\n",
    "r, s = signature\n",
    "h = int(sha1(message.encode()).hexdigest(), 16)\n",
    "if not (0 < r < q and 0 < s < q):\n",
    "return False\n",
    "w = pow(s, - 1, q)\n",
    "u1 = (h * w) % q\n",
    "u2 = (r * w) % q\n",
    "V = ((pow(g, u1, p) * pow(y, u2, p)) % p) % q\n",
    "return v == r\n",
    "# Example usage\n",
    "public_key, private_key = generate_keys()\n",
    "message = \"Hello, DSA!\"\n",
    "signature = sign_message(private_key, message)\n",
    "is_valid = verify_signature(public_key, message, signature)\n",
    "print(\"Message:\", message)\n",
    "print(\"Signature:\", signature)\n",
    "print(\"Is the signature valid?\", is_valid)\n"
   ]
  },
  {
   "cell_type": "code",
   "execution_count": null,
   "id": "853f5684-e448-491e-9813-3ae2aa9df178",
   "metadata": {},
   "outputs": [],
   "source": []
  }
 ],
 "metadata": {
  "kernelspec": {
   "display_name": "Python 3 (ipykernel)",
   "language": "python",
   "name": "python3"
  },
  "language_info": {
   "codemirror_mode": {
    "name": "ipython",
    "version": 3
   },
   "file_extension": ".py",
   "mimetype": "text/x-python",
   "name": "python",
   "nbconvert_exporter": "python",
   "pygments_lexer": "ipython3",
   "version": "3.12.3"
  }
 },
 "nbformat": 4,
 "nbformat_minor": 5
}
