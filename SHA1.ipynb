{
 "cells": [
  {
   "cell_type": "code",
   "execution_count": 6,
   "id": "429ca893-08a2-403b-8b45-ca71243723a4",
   "metadata": {},
   "outputs": [
    {
     "name": "stdout",
     "output_type": "stream",
     "text": [
      "SHA-1 hash of \"Hello, World!\": 0a0a9f2a6772942557ab5355d76af442f8f65e01\n"
     ]
    }
   ],
   "source": [
    "import hashlib\n",
    "\n",
    "\n",
    "def calculate_sha1(input_string):\n",
    "    sha1_hash = hashlib.sha1() \n",
    "    sha1_hash.update(input_string.encode('utf-8'))  \n",
    "    return sha1_hash.hexdigest()  \n",
    "\n",
    "if __name__ == '__main__':\n",
    "    text = \"Hello, World!\" \n",
    "    sha1_result = calculate_sha1(text) \n",
    "    print(f'SHA-1 hash of \"{text}\": {sha1_result}')  \n"
   ]
  },
  {
   "cell_type": "code",
   "execution_count": null,
   "id": "28d089f3-ca67-46b0-bd4c-0b3fe28329c0",
   "metadata": {},
   "outputs": [],
   "source": []
  }
 ],
 "metadata": {
  "kernelspec": {
   "display_name": "Python 3 (ipykernel)",
   "language": "python",
   "name": "python3"
  },
  "language_info": {
   "codemirror_mode": {
    "name": "ipython",
    "version": 3
   },
   "file_extension": ".py",
   "mimetype": "text/x-python",
   "name": "python",
   "nbconvert_exporter": "python",
   "pygments_lexer": "ipython3",
   "version": "3.12.3"
  }
 },
 "nbformat": 4,
 "nbformat_minor": 5
}
