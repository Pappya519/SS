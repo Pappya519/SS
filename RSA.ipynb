{
 "cells": [
  {
   "cell_type": "code",
   "execution_count": 19,
   "id": "1f0f1cac-2e93-4f07-9280-9c0851af2a2a",
   "metadata": {},
   "outputs": [
    {
     "name": "stdout",
     "output_type": "stream",
     "text": [
      "Public key: (e=5, n=21)\n",
      "Private key: (d=5, n=21)\n",
      "Original message: 12\n",
      "Encrypted message: 3\n"
     ]
    }
   ],
   "source": [
    "import math\n",
    "\n",
    "\n",
    "def gcd(a, h):\n",
    "    while h != 0:\n",
    "        a, h = h, a % h\n",
    "    return a\n",
    "\n",
    "\n",
    "def mod_inverse(e, phi):\n",
    "    \n",
    "    for d in range(1, phi):\n",
    "        if (e * d) % phi == 1:\n",
    "            return d\n",
    "    return None  \n",
    "\n",
    "\n",
    "p = 3\n",
    "q = 7\n",
    "n = p * q\n",
    "e = 2\n",
    "phi = (p - 1) * (q - 1)\n",
    "\n",
    "\n",
    "while e < phi:\n",
    "    if gcd(e, phi) == 1:\n",
    "        break\n",
    "    else:\n",
    "        e += 1\n",
    "\n",
    "\n",
    "d = mod_inverse(e, phi)\n",
    "\n",
    "\n",
    "print(f\"Public key: (e={e}, n={n})\")\n",
    "print(f\"Private key: (d={d}, n={n})\")\n",
    "\n",
    "\n",
    "msg = 12\n",
    "print(f\"Original message: {msg}\")\n",
    "\n",
    "\n",
    "c = pow(msg, e, n)\n",
    "print(f\"Encrypted message: {c}\")\n"
   ]
  },
  {
   "cell_type": "code",
   "execution_count": null,
   "id": "bb82a584-a57d-4f29-9f2a-9322f0deb6f6",
   "metadata": {},
   "outputs": [],
   "source": []
  }
 ],
 "metadata": {
  "kernelspec": {
   "display_name": "Python 3 (ipykernel)",
   "language": "python",
   "name": "python3"
  },
  "language_info": {
   "codemirror_mode": {
    "name": "ipython",
    "version": 3
   },
   "file_extension": ".py",
   "mimetype": "text/x-python",
   "name": "python",
   "nbconvert_exporter": "python",
   "pygments_lexer": "ipython3",
   "version": "3.12.3"
  }
 },
 "nbformat": 4,
 "nbformat_minor": 5
}
