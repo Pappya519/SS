{
 "cells": [
  {
   "cell_type": "code",
   "execution_count": 2,
   "id": "1f41a615-247b-4b2e-b8bb-5ead781520c3",
   "metadata": {},
   "outputs": [
    {
     "name": "stdout",
     "output_type": "stream",
     "text": [
      "The value of P: 23\n",
      "The value of G: 9\n",
      "The private key a for Alice: 4\n",
      "The private key b for Bob: 3\n",
      "Secret key for Alice is: 9\n",
      "Secret key for Bob is: 9\n"
     ]
    }
   ],
   "source": [
    "def power(a, b, p):\n",
    "    if b==1:\n",
    "        return a\n",
    "    else:\n",
    "        return pow(a, b) % p\n",
    "\n",
    "def main():\n",
    "    P=23\n",
    "    print(\"The value of P:\", P)\n",
    "    G=9 \n",
    "    print(\"The value of G:\", G)\n",
    "    a=4\n",
    "    print(\"The private key a for Alice:\", a)\n",
    "    x= power(G, a, P)\n",
    "    b=3\n",
    "    print(\"The private key b for Bob:\", b)\n",
    "    y=power(G, b, P)\n",
    "    ka = power(y, a, P)\n",
    "    kb = power(x, b, P) \n",
    "    print(\"Secret key for Alice is:\", ka)\n",
    "    print(\"Secret key for Bob is:\", kb)\n",
    "if __name__==\"__main__\":\n",
    "    main()\n"
   ]
  },
  {
   "cell_type": "code",
   "execution_count": null,
   "id": "1dfd0512-e49e-4221-a698-b33f4d0d3ed3",
   "metadata": {},
   "outputs": [],
   "source": [
    " "
   ]
  }
 ],
 "metadata": {
  "kernelspec": {
   "display_name": "Python 3 (ipykernel)",
   "language": "python",
   "name": "python3"
  },
  "language_info": {
   "codemirror_mode": {
    "name": "ipython",
    "version": 3
   },
   "file_extension": ".py",
   "mimetype": "text/x-python",
   "name": "python",
   "nbconvert_exporter": "python",
   "pygments_lexer": "ipython3",
   "version": "3.12.3"
  }
 },
 "nbformat": 4,
 "nbformat_minor": 5
}
